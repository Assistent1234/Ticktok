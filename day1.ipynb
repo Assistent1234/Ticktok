{
 "cells": [
  {
   "cell_type": "code",
   "execution_count": 1,
   "id": "0367622f",
   "metadata": {},
   "outputs": [
    {
     "name": "stdout",
     "output_type": "stream",
     "text": [
      "Hello world\n"
     ]
    }
   ],
   "source": [
    "print(\"Hello world\")"
   ]
  },
  {
   "cell_type": "code",
   "execution_count": 3,
   "id": "a21841ae",
   "metadata": {},
   "outputs": [
    {
     "name": "stdout",
     "output_type": "stream",
     "text": [
      "my name is : Ravi\n",
      "my age is : 19\n",
      "my price is : 25.99\n"
     ]
    }
   ],
   "source": [
    "# variable\n",
    "name =\"Ravi\"                      \n",
    "age = 19\n",
    "price = 25.99\n",
    "print(\"my name is :\", name)\n",
    "print(\"my age is :\",age)\n",
    "print(\"my price is :\",price)"
   ]
  },
  {
   "cell_type": "code",
   "execution_count": 8,
   "id": "26e13e2e",
   "metadata": {},
   "outputs": [
    {
     "name": "stdout",
     "output_type": "stream",
     "text": [
      "a = 10\n",
      "b =  5\n"
     ]
    }
   ],
   "source": [
    "# swap of two variable\n",
    "a = 5\n",
    "b = 10\n",
    "a,b = b,a\n",
    "print(\"a =\", a)\n",
    "print(\"b = \", b)"
   ]
  },
  {
   "cell_type": "code",
   "execution_count": null,
   "id": "41e2c2b7",
   "metadata": {},
   "outputs": [
    {
     "name": "stdout",
     "output_type": "stream",
     "text": [
      "<class 'int'>\n",
      "<class 'str'>\n",
      "<class 'float'>\n",
      "<class 'bool'>\n",
      "<class 'NoneType'>\n"
     ]
    }
   ],
   "source": [
    "# data type\n",
    "age = 19                   \n",
    "name =\"Ravi\"\n",
    "price = 19.99\n",
    "x = True\n",
    "result = None\n",
    "print(type(age))\n",
    "print(type(name))\n",
    "print(type(price))\n",
    "print(type(x))\n",
    "print(type(result))\n"
   ]
  },
  {
   "cell_type": "code",
   "execution_count": 5,
   "id": "cd24f492",
   "metadata": {},
   "outputs": [
    {
     "name": "stdout",
     "output_type": "stream",
     "text": [
      "<class 'str'>\n",
      "<class 'float'>\n",
      "after conversion <class 'int'>\n"
     ]
    }
   ],
   "source": [
    "# type casting\n",
    "a = \"123\"\n",
    "b = 1.23\n",
    "print(type(a))\n",
    "print(type(b))\n",
    "a = int(a)\n",
    "print(\"after conversion\",type(a))"
   ]
  },
  {
   "cell_type": "markdown",
   "id": "bf47ce07",
   "metadata": {},
   "source": [
    "Expression Execution -\n",
    " String & Numeric values\n"
   ]
  },
  {
   "cell_type": "code",
   "execution_count": 28,
   "id": "5858c37d",
   "metadata": {},
   "outputs": [
    {
     "name": "stdout",
     "output_type": "stream",
     "text": [
      "@@@@@@\n"
     ]
    }
   ],
   "source": [
    "A,B=2,3\n",
    "Txt=\"@\"\n",
    "print(2*Txt*3)"
   ]
  },
  {
   "cell_type": "markdown",
   "id": "daf64716",
   "metadata": {},
   "source": [
    "String & String "
   ]
  },
  {
   "cell_type": "code",
   "execution_count": 29,
   "id": "69fa9d48",
   "metadata": {},
   "outputs": [
    {
     "name": "stdout",
     "output_type": "stream",
     "text": [
      "2@2@2@\n"
     ]
    }
   ],
   "source": [
    "A,B=\"2\",3\n",
    "Txt=\"@\"\n",
    "print((A+Txt)*B)"
   ]
  },
  {
   "cell_type": "markdown",
   "id": "dae45f2c",
   "metadata": {},
   "source": [
    "Remainder is negative when denominater is nagetive"
   ]
  },
  {
   "cell_type": "code",
   "execution_count": 2,
   "id": "8aec9450",
   "metadata": {},
   "outputs": [
    {
     "name": "stdout",
     "output_type": "stream",
     "text": [
      "1\n"
     ]
    }
   ],
   "source": [
    "A,B = -5,2\n",
    "C=A%B\n",
    "print(C)"
   ]
  },
  {
   "cell_type": "markdown",
   "id": "661c469b",
   "metadata": {},
   "source": [
    "Conditional Statement"
   ]
  },
  {
   "cell_type": "code",
   "execution_count": null,
   "id": "68858fb7",
   "metadata": {},
   "outputs": [
    {
     "name": "stdout",
     "output_type": "stream",
     "text": [
      "A\n"
     ]
    }
   ],
   "source": [
    "marks =int(input(\"marks\"))\n",
    "if(marks >= 90):\n",
    "  print(\"A\")\n",
    "elif(marks >= 80 and marks < 90):\n",
    "  print(\"B\")\n",
    "elif(marks >= 70 and marks < 80):\n",
    "  print(\"C\")\n",
    "else:\n",
    "  print(\"D\")"
   ]
  },
  {
   "cell_type": "code",
   "execution_count": null,
   "id": "8b76c62d",
   "metadata": {},
   "outputs": [
    {
     "name": "stdout",
     "output_type": "stream",
     "text": [
      "0.75\n",
      "Thanku\n"
     ]
    }
   ],
   "source": [
    "# if Statement\n",
    "age = 15                       \n",
    "if age < 20:\n",
    "    a = age * 5 * 1/100\n",
    "    b=a\n",
    "    print(b)\n",
    "    print(\"Thanku\")\n"
   ]
  },
  {
   "cell_type": "code",
   "execution_count": 16,
   "id": "ff88c732",
   "metadata": {},
   "outputs": [
    {
     "name": "stdout",
     "output_type": "stream",
     "text": [
      "Minor\n"
     ]
    }
   ],
   "source": [
    "# if else\n",
    "age = 15                               \n",
    "if age < 18:\n",
    "    print(\"Minor\")\n",
    "else:\n",
    "    print(\"Thanku\")\n"
   ]
  },
  {
   "cell_type": "code",
   "execution_count": null,
   "id": "1497412a",
   "metadata": {},
   "outputs": [
    {
     "name": "stdout",
     "output_type": "stream",
     "text": [
      "Gread B\n"
     ]
    }
   ],
   "source": [
    "# if-elif statement\n",
    "marks = 24                           \n",
    "if marks >= 25:\n",
    "    print(\"Gread A\")\n",
    "elif marks >= 20:\n",
    "    print(\"Gread B\")\n",
    "elif marks >= 10:\n",
    "    print(\"Gread c\")\n",
    "else:\n",
    "    print(\"Fail\")\n"
   ]
  },
  {
   "cell_type": "code",
   "execution_count": 19,
   "id": "781abaa4",
   "metadata": {},
   "outputs": [
    {
     "name": "stdout",
     "output_type": "stream",
     "text": [
      "Gread B\n"
     ]
    }
   ],
   "source": [
    "# if-elif statement\n",
    "marks =85\n",
    "if(marks>=90):\n",
    "    print(\"Gread A\")\n",
    "elif (marks>=80 and marks < 90):\n",
    "    print(\"Gread B\")\n",
    "elif (marks>=70 and marks < 80):\n",
    "    print(\"Gread c\")\n",
    "else:\n",
    "    print(\"fail\")"
   ]
  },
  {
   "cell_type": "code",
   "execution_count": 23,
   "id": "249ae781",
   "metadata": {},
   "outputs": [
    {
     "name": "stdout",
     "output_type": "stream",
     "text": [
      "even num\n"
     ]
    }
   ],
   "source": [
    "# Nested if statement\n",
    "num = 10\n",
    "if num > 0:\n",
    "    if num % 2 == 0:\n",
    "        print(\"even num\")\n",
    "    else:\n",
    "        print(\"odd num\")"
   ]
  },
  {
   "cell_type": "markdown",
   "id": "a398bbfd",
   "metadata": {},
   "source": [
    "Operators"
   ]
  },
  {
   "cell_type": "code",
   "execution_count": 3,
   "id": "c7dbe1d9",
   "metadata": {},
   "outputs": [
    {
     "name": "stdout",
     "output_type": "stream",
     "text": [
      "7\n",
      "3\n",
      "10\n",
      "2.5\n",
      "1\n",
      "25\n"
     ]
    }
   ],
   "source": [
    "#Arithmetic operators\n",
    "a = 5\n",
    "b = 2\n",
    "print(a+b)\n",
    "print(a - b)\n",
    "print(a * b)\n",
    "print(a / b)\n",
    "print(a % b)\n",
    "print(a ** b)"
   ]
  },
  {
   "cell_type": "code",
   "execution_count": 4,
   "id": "640af59e",
   "metadata": {},
   "outputs": [
    {
     "name": "stdout",
     "output_type": "stream",
     "text": [
      "num : 15\n"
     ]
    }
   ],
   "source": [
    "# Assignment operators\n",
    "num = 10\n",
    "num += 5\n",
    "print(\"num :\",num) "
   ]
  },
  {
   "cell_type": "code",
   "execution_count": null,
   "id": "131d1c9c",
   "metadata": {},
   "outputs": [
    {
     "name": "stdout",
     "output_type": "stream",
     "text": [
      "False\n",
      "True\n",
      "True\n",
      "False\n",
      "True\n",
      "False\n"
     ]
    }
   ],
   "source": [
    "# Compration operators\n",
    "a = 50\n",
    "b = 20\n",
    "print(a == b)\n",
    "print(a != b)\n",
    "print(a >= b)\n",
    "print(a <= b)\n",
    "print(a > b)\n",
    "print(a < b)"
   ]
  },
  {
   "cell_type": "code",
   "execution_count": 14,
   "id": "8689e0e1",
   "metadata": {},
   "outputs": [
    {
     "name": "stdout",
     "output_type": "stream",
     "text": [
      "True\n",
      "False\n"
     ]
    }
   ],
   "source": [
    "# Logical operators\n",
    "a = 50\n",
    "b = 30\n",
    "print(not False)\n",
    "print(not(a > b))"
   ]
  },
  {
   "cell_type": "code",
   "execution_count": 5,
   "id": "e2a786b6",
   "metadata": {},
   "outputs": [
    {
     "name": "stdout",
     "output_type": "stream",
     "text": [
      "True\n"
     ]
    }
   ],
   "source": [
    "# Identity operators\n",
    "a = 20\n",
    "b = \"20\"\n",
    "print(a is not b)"
   ]
  },
  {
   "cell_type": "code",
   "execution_count": 10,
   "id": "5e596fa0",
   "metadata": {},
   "outputs": [
    {
     "name": "stdout",
     "output_type": "stream",
     "text": [
      "8\n",
      "10\n",
      "2\n",
      "40\n"
     ]
    }
   ],
   "source": [
    "# Bitwise operators\n",
    "a = 10\n",
    "b = 8\n",
    "print( a & b)\n",
    "print(a | b)\n",
    "print(a ^ b)\n",
    "print(a << 2)"
   ]
  },
  {
   "cell_type": "code",
   "execution_count": 14,
   "id": "ed858d1b",
   "metadata": {},
   "outputs": [
    {
     "name": "stdout",
     "output_type": "stream",
     "text": [
      "True\n",
      "True\n"
     ]
    }
   ],
   "source": [
    "# Membership operators\n",
    "a = \"hello\"\n",
    "print(\"e\" in a)\n",
    "print(\"p\" not in a)"
   ]
  },
  {
   "cell_type": "code",
   "execution_count": 17,
   "id": "b325817e",
   "metadata": {},
   "outputs": [
    {
     "name": "stdout",
     "output_type": "stream",
     "text": [
      "6\n",
      "<class 'int'>\n"
     ]
    }
   ],
   "source": [
    "# Type Conversion\n",
    "a = 2\n",
    "b = 4\n",
    "sum =  a + b \n",
    "print(sum)\n",
    "print(type(sum))"
   ]
  },
  {
   "cell_type": "markdown",
   "id": "f2b0654b",
   "metadata": {},
   "source": [
    "Input in python"
   ]
  },
  {
   "cell_type": "code",
   "execution_count": null,
   "id": "8884b053",
   "metadata": {},
   "outputs": [
    {
     "name": "stdout",
     "output_type": "stream",
     "text": [
      "Welcome Ravi\n"
     ]
    }
   ],
   "source": [
    "name = input(\"enter your name:\")\n",
    "print(\"Welcome\",name)"
   ]
  },
  {
   "cell_type": "code",
   "execution_count": 2,
   "id": "6aa2dafd",
   "metadata": {},
   "outputs": [
    {
     "name": "stdout",
     "output_type": "stream",
     "text": [
      "Welcome= Ravi\n",
      "age= 19\n",
      "marks= 60.0\n"
     ]
    }
   ],
   "source": [
    "name = input(\"enter name\")\n",
    "age = input(\"enter age\")\n",
    "marks = float(input(\"enter marks\"))\n",
    "print(\"Welcome=\",name)\n",
    "print(\"age=\",age)\n",
    "print(\"marks=\",marks)"
   ]
  },
  {
   "cell_type": "markdown",
   "id": "a6617a13",
   "metadata": {},
   "source": [
    "Write  a program to input 2 numbers & print their sum"
   ]
  },
  {
   "cell_type": "code",
   "execution_count": null,
   "id": "5587bd8c",
   "metadata": {},
   "outputs": [
    {
     "name": "stdout",
     "output_type": "stream",
     "text": [
      "sum= 70\n"
     ]
    }
   ],
   "source": [
    "first = int(input(\"enter first\"))\n",
    "second = int(input(\"enter second\"))\n",
    "print(\"sum=\",first+second)"
   ]
  },
  {
   "cell_type": "markdown",
   "id": "a31260a1",
   "metadata": {},
   "source": [
    "Write a program to input side of a square & print its area"
   ]
  },
  {
   "cell_type": "code",
   "execution_count": 3,
   "id": "1a0a12c4",
   "metadata": {},
   "outputs": [
    {
     "name": "stdout",
     "output_type": "stream",
     "text": [
      "area= 16.0\n"
     ]
    }
   ],
   "source": [
    "side = float(input(\"enter square \"))\n",
    "print(\"area=\", side ** 2)"
   ]
  },
  {
   "cell_type": "markdown",
   "id": "42e7b165",
   "metadata": {},
   "source": [
    "Write a program 2 floating point numbers & print their average"
   ]
  },
  {
   "cell_type": "code",
   "execution_count": 4,
   "id": "2617efe9",
   "metadata": {},
   "outputs": [
    {
     "name": "stdout",
     "output_type": "stream",
     "text": [
      "avg= 15.0\n"
     ]
    }
   ],
   "source": [
    "a = float(input(\"enter first\"))\n",
    "b = float(input(\"enter second\"))\n",
    "print(\"avg=\",(a+b)/2 )"
   ]
  },
  {
   "cell_type": "markdown",
   "id": "7681549a",
   "metadata": {},
   "source": [
    "String"
   ]
  },
  {
   "cell_type": "code",
   "execution_count": 10,
   "id": "9babe0ed",
   "metadata": {},
   "outputs": [
    {
     "name": "stdout",
     "output_type": "stream",
     "text": [
      "str1  : Ravi\n",
      "str2 : Verma\n",
      "str3 : BBDU\n"
     ]
    }
   ],
   "source": [
    "str1 = \"Ravi\"\n",
    "str2 = 'Verma'\n",
    "str3 =\"\"\"BBDU\"\"\"\n",
    "print(\"str1  :\",str1)\n",
    "print(\"str2 :\",str2)\n",
    "print(\"str3 :\",str3)"
   ]
  },
  {
   "cell_type": "code",
   "execution_count": null,
   "id": "d39732ec",
   "metadata": {},
   "outputs": [
    {
     "name": "stdout",
     "output_type": "stream",
     "text": [
      "my name is ravi verma\n",
      "21\n",
      "MY NAME IS RAVI VERMA\n"
     ]
    }
   ],
   "source": [
    "# length of string\n",
    "a = \"my name is ravi verma\"\n",
    "print(a)\n",
    "print(len(a))\n",
    "print(a.upper())"
   ]
  },
  {
   "cell_type": "code",
   "execution_count": null,
   "id": "93da3dfa",
   "metadata": {},
   "outputs": [
    {
     "name": "stdout",
     "output_type": "stream",
     "text": [
      "Ravi verma\n",
      "10\n"
     ]
    }
   ],
   "source": [
    "# length of string\n",
    "str1 =\"Ravi verma\"\n",
    "print(str1)\n",
    "print(len(str1))"
   ]
  },
  {
   "cell_type": "code",
   "execution_count": null,
   "id": "5cdb6771",
   "metadata": {},
   "outputs": [
    {
     "name": "stdout",
     "output_type": "stream",
     "text": [
      "n\n"
     ]
    }
   ],
   "source": [
    "# Indexing\n",
    "str = \"apna college\"           # all correctors of index 0 1 2......\n",
    "print(str[2])"
   ]
  },
  {
   "cell_type": "code",
   "execution_count": null,
   "id": "f8a307b8",
   "metadata": {},
   "outputs": [
    {
     "name": "stdout",
     "output_type": "stream",
     "text": [
      "Ravi\n"
     ]
    }
   ],
   "source": [
    "# slicing\n",
    "str = \"Ravi verma\"\n",
    "print(str[0:4])"
   ]
  },
  {
   "cell_type": "markdown",
   "id": "80b5ee6d",
   "metadata": {},
   "source": [
    "Write a program to check if a number enterd by the user is odd or even"
   ]
  },
  {
   "cell_type": "code",
   "execution_count": 8,
   "id": "907d01b0",
   "metadata": {},
   "outputs": [
    {
     "name": "stdout",
     "output_type": "stream",
     "text": [
      "even\n"
     ]
    }
   ],
   "source": [
    "num = int(input(\"enter nuber\"))\n",
    "if(num % 2==0):\n",
    "  print(\"even\")\n",
    "else:\n",
    "  print(\"odd\")"
   ]
  },
  {
   "cell_type": "markdown",
   "id": "c7bd2c4b",
   "metadata": {},
   "source": [
    "write a program to take details from a student for ID-card and then print it in different lines "
   ]
  },
  {
   "cell_type": "code",
   "execution_count": null,
   "id": "b7d9c916",
   "metadata": {},
   "outputs": [
    {
     "name": "stdout",
     "output_type": "stream",
     "text": [
      "Student ID Card\n",
      "name : Ravi\n",
      "branch : SOCA\n",
      "roll no : 62\n",
      "year : 2\n"
     ]
    }
   ],
   "source": [
    "name = input(\"enter students name\")\n",
    "branch = input(\"enter branch\")\n",
    "roll  = input(\"enter the roll \")\n",
    "year = input(\"enter year\")\n",
    "print(\"Student ID Card\")\n",
    "print(\"name :\",name)\n",
    "print(\"branch :\",branch)\n",
    "print(\"roll no :\",roll )\n",
    "print(\"year :\",year)"
   ]
  },
  {
   "cell_type": "code",
   "execution_count": null,
   "id": "988bf475",
   "metadata": {},
   "outputs": [
    {
     "name": "stdout",
     "output_type": "stream",
     "text": [
      "<class 'float'>\n",
      "<class 'int'>\n",
      "12\n"
     ]
    }
   ],
   "source": [
    "# convert a float into integer\n",
    "x = 12.5\n",
    "print(type(x))\n",
    "x =int(x)\n",
    "print(type(x))\n",
    "print(x)"
   ]
  },
  {
   "cell_type": "code",
   "execution_count": null,
   "id": "c1a23f67",
   "metadata": {},
   "outputs": [
    {
     "name": "stdout",
     "output_type": "stream",
     "text": [
      "the number is positive \n"
     ]
    }
   ],
   "source": [
    "# check if a number is positive and negative\n",
    "num = int(input(\"enter a number\"))\n",
    "if num > 0:\n",
    "    print(\"the number is positive \")\n",
    "elif num < 0:\n",
    "    print(\"the number is negative\")\n",
    "else:\n",
    "    print(\"the number is zero\")"
   ]
  },
  {
   "cell_type": "code",
   "execution_count": null,
   "id": "50dd90db",
   "metadata": {},
   "outputs": [
    {
     "name": "stdout",
     "output_type": "stream",
     "text": [
      " It is even number\n"
     ]
    }
   ],
   "source": [
    "# even or odd number\n",
    "num = int(input(\"enter the number\"))\n",
    "if num % 2 == 0:\n",
    "    print(\" It is even number\")\n",
    "else:\n",
    "    print(\"It is odd number\")"
   ]
  }
 ],
 "metadata": {
  "kernelspec": {
   "display_name": "Python 3",
   "language": "python",
   "name": "python3"
  },
  "language_info": {
   "codemirror_mode": {
    "name": "ipython",
    "version": 3
   },
   "file_extension": ".py",
   "mimetype": "text/x-python",
   "name": "python",
   "nbconvert_exporter": "python",
   "pygments_lexer": "ipython3",
   "version": "3.13.7"
  }
 },
 "nbformat": 4,
 "nbformat_minor": 5
}
